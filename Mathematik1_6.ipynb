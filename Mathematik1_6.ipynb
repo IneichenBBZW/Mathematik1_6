{
 "cells": [
  {
   "cell_type": "markdown",
   "id": "9f3b1ba6",
   "metadata": {},
   "source": [
    "# Negative Zahlen"
   ]
  },
  {
   "cell_type": "markdown",
   "id": "70a4f46b",
   "metadata": {},
   "source": [
    "## Aufgabe 6\n",
    "Schreiben Sie eine Funktion `add_inv(x, n)`, welche die aufsummierende Gegenzahl des eingegebenen Arguments im gewählten Restklassenring berechnet.\\\n",
    "Das Ergebnis von `add_inv(2, 5)` soll 3 ergeben, siehe Beispiel im Skript."
   ]
  },
  {
   "cell_type": "code",
   "execution_count": 1,
   "id": "9084aefe",
   "metadata": {},
   "outputs": [],
   "source": [
    "def add_inv(x, n):\n",
    "    pass"
   ]
  },
  {
   "cell_type": "code",
   "execution_count": 2,
   "id": "a36af6ec",
   "metadata": {},
   "outputs": [],
   "source": [
    "add_inv(2, 5)"
   ]
  },
  {
   "cell_type": "markdown",
   "id": "f83047a0",
   "metadata": {},
   "source": [
    "## Aufgabe 9\n",
    "Hält sich der Operator `%` an die Regen, dass Reste nie negativ sein sollen?"
   ]
  },
  {
   "cell_type": "code",
   "execution_count": 3,
   "id": "77f6b99f",
   "metadata": {},
   "outputs": [],
   "source": [
    "# Testen Sie das hier:"
   ]
  },
  {
   "cell_type": "markdown",
   "id": "1973d110",
   "metadata": {},
   "source": [
    "## Aufgabe 10\n",
    "Schreiben Sie eine Funktion `math_mod(x, n)` mit den Parametern a und b, so dass der Wert `x mod n` positiv, nach den mathematischen Regel, zurückgegenen wird."
   ]
  },
  {
   "cell_type": "code",
   "execution_count": 4,
   "id": "e02cdcff",
   "metadata": {},
   "outputs": [],
   "source": [
    "def math_mod(x, n):\n",
    "    pass"
   ]
  },
  {
   "cell_type": "code",
   "execution_count": 5,
   "id": "a79f57d1",
   "metadata": {},
   "outputs": [],
   "source": [
    "math_mod(-18, 5)"
   ]
  },
  {
   "cell_type": "markdown",
   "id": "06f43aef",
   "metadata": {},
   "source": [
    "## Aufgabe 17\n",
    "Unten ist veranschaulicht, warum der Algoritmus in Aufgabe 16 funktioniert."
   ]
  },
  {
   "cell_type": "code",
   "execution_count": 6,
   "id": "9348c766",
   "metadata": {},
   "outputs": [
    {
     "name": "stdout",
     "output_type": "stream",
     "text": [
      "01101111\n",
      "10010001\n",
      "11111111\n"
     ]
    }
   ],
   "source": [
    "# 111 entspricht der Binärzahl 01101111\n",
    "# Die Zahl -111 ist die Gegenzahl von 111 in Z. \n",
    "# Gemäss Aufgabe 13 muss man zu -111 256 addieren, und die entstandene Dezimalzahl in eine Binärzahl umzuwandeln, um das binäre -111 zu bekommen.\n",
    "# -111 + 256 = 256 - 111 = 145\n",
    "# Das Einerkomplement ist demnach 255 -111, weil 255 - 111 + 1 = 256 - 111\n",
    "zahl = 111\n",
    "binär111_8bit = f'{zahl:08b}'  # String-Formatierung mit 8-Bit-Ausgabe\n",
    "print(binär111_8bit)\n",
    "inv_zahl = 256 - zahl\n",
    "binär_inv_zahl_8bit = f'{inv_zahl:08b}'\n",
    "print(binär_inv_zahl_8bit)\n",
    "addition_zahl_mit_einerkomplement_zahl = f'{(zahl + 255 - zahl):08b}'\n",
    "print(addition_zahl_mit_einerkomplement_zahl)\n",
    "# Wenn eine Zahl mit seinem Einerkomplement addiert wird, ergibt sich 11111111"
   ]
  },
  {
   "cell_type": "markdown",
   "id": "1069612e",
   "metadata": {},
   "source": [
    "## Aufgabe 18\n",
    "Was kommt heraus, wenn Sie eine negative Zahl, z.B. -9 >> 2, nach rechts verschieben?\\\n",
    "Was passiert auf der Bitebene?"
   ]
  },
  {
   "cell_type": "code",
   "execution_count": null,
   "id": "948f7737",
   "metadata": {},
   "outputs": [],
   "source": []
  },
  {
   "cell_type": "markdown",
   "id": "197437d3",
   "metadata": {},
   "source": [
    "## Aufgabe 19\n",
    "Schreiben Sie ein Programm, welches die binäre Gegenzahl einer binären Zahl x, im n-Bit-Zweikomplement bestimmt.\\\n",
    "Signatur: twos_complement(x: str, bits: int) -> str"
   ]
  },
  {
   "cell_type": "code",
   "execution_count": 7,
   "id": "3db55fca",
   "metadata": {},
   "outputs": [],
   "source": [
    "def twos_complement(x: str, bits: int) -> str:\n",
    "    \"\"\"\n",
    "    Bestimmt die binäre Gegenzahl (2er-Komplement) einer binären Zahl x im n-Bit-System.\n",
    "\n",
    "    :param x: Binäre Zahl als String (z. B. '1010').\n",
    "    :param bits: Anzahl der Bits des Systems.\n",
    "    :return: Binäre Gegenzahl als String.\n",
    "    \"\"\"\n",
    "    pass"
   ]
  },
  {
   "cell_type": "code",
   "execution_count": 8,
   "id": "54d6ee76",
   "metadata": {},
   "outputs": [
    {
     "name": "stdout",
     "output_type": "stream",
     "text": [
      "None\n",
      "None\n"
     ]
    }
   ],
   "source": [
    "# Beispiel: Binäre Gegenzahl für 111 und umgekehrt\n",
    "print(twos_complement('1101111', 8)) # 10010001 erwartet\n",
    "print(twos_complement('10010001', 8)) # 1101111 erwartet"
   ]
  },
  {
   "cell_type": "markdown",
   "id": "7ec17bd0",
   "metadata": {},
   "source": [
    "## Aufgabe 20\n",
    "Schreiben Sie ein Programm, welches den Dezimalwert eine Binärzahl im n-Bit-Zweikomplement bestimmt.\n",
    "Signatur: binary_to_decimal_twos_complement(x: str, bits: int) -> int:"
   ]
  },
  {
   "cell_type": "code",
   "execution_count": 9,
   "id": "00c78d73",
   "metadata": {},
   "outputs": [],
   "source": [
    "def binary_to_decimal_twos_complement(x: str, bits: int) -> int:\n",
    "    \"\"\"\n",
    "    Bestimmt den Dezimalwert einer Binärzahl im n-Bit-Zweierkomplement.\n",
    "\n",
    "    :param x: Binäre Zahl als String (z. B. '1010').\n",
    "    :param bits: Anzahl der Bits des Systems.\n",
    "    :return: Dezimalwert der Binärzahl.\n",
    "    \"\"\"\n",
    "    pass"
   ]
  },
  {
   "cell_type": "code",
   "execution_count": 10,
   "id": "f2fc6d41",
   "metadata": {},
   "outputs": [
    {
     "name": "stdout",
     "output_type": "stream",
     "text": [
      "None\n",
      "None\n",
      "None\n",
      "None\n",
      "None\n"
     ]
    }
   ],
   "source": [
    "print(binary_to_decimal_twos_complement('10010000', 8)) # -112 erwartet\n",
    "print(binary_to_decimal_twos_complement('11100101', 8)) # -27 erwartet\n",
    "print(binary_to_decimal_twos_complement('11010', 8)) # 26 erwartet\n",
    "print(binary_to_decimal_twos_complement('1010011', 8)) # 83 erwartet\n",
    "print(binary_to_decimal_twos_complement('10000010101101000000000000000000', 32)) # -2147483648 erwartet"
   ]
  }
 ],
 "metadata": {
  "kernelspec": {
   "display_name": "venv",
   "language": "python",
   "name": "python3"
  },
  "language_info": {
   "codemirror_mode": {
    "name": "ipython",
    "version": 3
   },
   "file_extension": ".py",
   "mimetype": "text/x-python",
   "name": "python",
   "nbconvert_exporter": "python",
   "pygments_lexer": "ipython3",
   "version": "3.12.8"
  }
 },
 "nbformat": 4,
 "nbformat_minor": 5
}
